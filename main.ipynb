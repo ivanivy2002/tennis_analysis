{
 "cells": [
  {
   "cell_type": "code",
   "execution_count": 1,
   "id": "initial_id",
   "metadata": {
    "ExecuteTime": {
     "end_time": "2024-06-16T08:58:12.372341Z",
     "start_time": "2024-06-16T08:58:06.660067Z"
    },
    "collapsed": true
   },
   "outputs": [],
   "source": [
    "from utils import (read_video,\n",
    "                   save_video,\n",
    "                   measure_distance,\n",
    "                   draw_player_stats,\n",
    "                   convert_pixel_distance_to_meters,\n",
    "                   get_latest_model,\n",
    "                   cal_stats,\n",
    "                   pairs_to_points,\n",
    "                   points_to_pairs,\n",
    "                   )\n",
    "import constants\n",
    "from trackers import PlayerTracker,BallTracker\n",
    "from court_line_detector import CourtLineDetector, adjust_keypoints_to_lines\n",
    "from mini_court import MiniCourt\n",
    "import cv2\n",
    "import pandas as pd\n",
    "from copy import deepcopy\n"
   ]
  },
  {
   "cell_type": "code",
   "execution_count": 2,
   "id": "2b3594bbb60ccf37",
   "metadata": {},
   "outputs": [],
   "source": [
    "# Read Video\n",
    "input_dir = \"input_videos\"\n",
    "input_name = \"sample.mp4\"\n",
    "base_name = input_name.split(\".\")[0]\n",
    "input_video_path = f\"{input_dir}/{input_name}\"\n",
    "video_frames = read_video(input_video_path)"
   ]
  },
  {
   "cell_type": "code",
   "execution_count": 3,
   "id": "d74e7837",
   "metadata": {},
   "outputs": [],
   "source": [
    "# 检测球员和球\n",
    "player_tracker = PlayerTracker(model_path='yolov8x')\n",
    "ball_tracker = BallTracker(model_path='models/last.pt')\n",
    "# 持久化地读取球员的检测\n",
    "player_detections = player_tracker.detect_frames(video_frames,\n",
    "                                                 read_from_stub=True,\n",
    "                                                 stub_path=\"tracker_stubs/player_detections.pkl\"\n",
    "                                                 )\n",
    "# 持久化地读取球的检测                                         \n",
    "ball_detections = ball_tracker.detect_frames(video_frames,\n",
    "                                             read_from_stub=True,\n",
    "                                             stub_path=\"tracker_stubs/ball_detections.pkl\"\n",
    "                                             )\n",
    "# 对球进行插值                                         \n",
    "ball_detections = ball_tracker.interpolate_ball_positions(ball_detections)"
   ]
  },
  {
   "cell_type": "code",
   "execution_count": 4,
   "id": "4ca7f66c",
   "metadata": {},
   "outputs": [],
   "source": [
    "# 加载球场线检测模型\n",
    "court_model_path = \"models/keypoints_model_best_4.pth\"\n",
    "# court_model_path = \"models/model_tennis_court_det.pt\"\n",
    "court_line_detector = CourtLineDetector(court_model_path)\n",
    "court_keypoints = court_line_detector.predict(video_frames)\n",
    "\n",
    "# 选择球员\n",
    "player_detections = player_tracker.choose_and_filter_players(court_keypoints, player_detections)"
   ]
  },
  {
   "cell_type": "code",
   "execution_count": 5,
   "id": "fa5177fe",
   "metadata": {},
   "outputs": [
    {
     "name": "stdout",
     "output_type": "stream",
     "text": [
      "Player Detections:  {1: [480.28240966796875, 751.597412109375, 624.837890625, 930.6015014648438], 2: [1030.5684814453125, 201.68313598632812, 1095.9012451171875, 308.51904296875]}\n"
     ]
    }
   ],
   "source": [
    "print(\"Player Detections: \", player_detections[0])"
   ]
  },
  {
   "cell_type": "code",
   "execution_count": 6,
   "id": "df0f1061",
   "metadata": {},
   "outputs": [
    {
     "name": "stdout",
     "output_type": "stream",
     "text": [
      "0: 555, 291\n",
      "1: 1319, 291\n",
      "2: 284, 834\n",
      "3: 1590, 839\n",
      "4: 651, 291\n",
      "5: 447, 835\n",
      "6: 1222, 291\n",
      "7: 1424, 839\n",
      "8: 622, 373\n",
      "9: 1254, 374\n",
      "10: 512, 653\n",
      "11: 1352, 655\n",
      "12: 936, 373\n",
      "13: 930, 654\n"
     ]
    }
   ],
   "source": [
    "for i in range(0, len(court_keypoints), 2):\n",
    "    x = int(court_keypoints[i])\n",
    "    y = int(court_keypoints[i+1])\n",
    "    print(f'{i//2}: {x}, {y}')"
   ]
  },
  {
   "cell_type": "code",
   "execution_count": 16,
   "id": "9874fb98",
   "metadata": {},
   "outputs": [
    {
     "ename": "error",
     "evalue": "OpenCV(4.8.0) D:\\a\\opencv-python\\opencv-python\\opencv\\modules\\highgui\\src\\window.cpp:1272: error: (-2:Unspecified error) The function is not implemented. Rebuild the library with Windows, GTK+ 2.x or Cocoa support. If you are on Ubuntu or Debian, install libgtk2.0-dev and pkg-config, then re-run cmake or configure script in function 'cvShowImage'\n",
     "output_type": "error",
     "traceback": [
      "\u001b[1;31m---------------------------------------------------------------------------\u001b[0m",
      "\u001b[1;31merror\u001b[0m                                     Traceback (most recent call last)",
      "Cell \u001b[1;32mIn[16], line 11\u001b[0m\n\u001b[0;32m      8\u001b[0m hsv \u001b[38;5;241m=\u001b[39m cv2\u001b[38;5;241m.\u001b[39mcvtColor(image, cv2\u001b[38;5;241m.\u001b[39mCOLOR_BGR2HSV)\n\u001b[0;32m     10\u001b[0m \u001b[38;5;66;03m# 展示图像\u001b[39;00m\n\u001b[1;32m---> 11\u001b[0m \u001b[43mcv2\u001b[49m\u001b[38;5;241;43m.\u001b[39;49m\u001b[43mimshow\u001b[49m\u001b[43m(\u001b[49m\u001b[38;5;124;43m'\u001b[39;49m\u001b[38;5;124;43mimage\u001b[39;49m\u001b[38;5;124;43m'\u001b[39;49m\u001b[43m,\u001b[49m\u001b[43m \u001b[49m\u001b[43mhsv\u001b[49m\u001b[43m)\u001b[49m\n",
      "File \u001b[1;32md:\\ProgramData\\anaconda3\\envs\\ml\\Lib\\site-packages\\ultralytics\\utils\\patches.py:56\u001b[0m, in \u001b[0;36mimshow\u001b[1;34m(winname, mat)\u001b[0m\n\u001b[0;32m     48\u001b[0m \u001b[38;5;28;01mdef\u001b[39;00m \u001b[38;5;21mimshow\u001b[39m(winname: \u001b[38;5;28mstr\u001b[39m, mat: np\u001b[38;5;241m.\u001b[39mndarray):\n\u001b[0;32m     49\u001b[0m \u001b[38;5;250m    \u001b[39m\u001b[38;5;124;03m\"\"\"\u001b[39;00m\n\u001b[0;32m     50\u001b[0m \u001b[38;5;124;03m    Displays an image in the specified window.\u001b[39;00m\n\u001b[0;32m     51\u001b[0m \n\u001b[1;32m   (...)\u001b[0m\n\u001b[0;32m     54\u001b[0m \u001b[38;5;124;03m        mat (np.ndarray): Image to be shown.\u001b[39;00m\n\u001b[0;32m     55\u001b[0m \u001b[38;5;124;03m    \"\"\"\u001b[39;00m\n\u001b[1;32m---> 56\u001b[0m     \u001b[43m_imshow\u001b[49m\u001b[43m(\u001b[49m\u001b[43mwinname\u001b[49m\u001b[38;5;241;43m.\u001b[39;49m\u001b[43mencode\u001b[49m\u001b[43m(\u001b[49m\u001b[38;5;124;43m\"\u001b[39;49m\u001b[38;5;124;43municode_escape\u001b[39;49m\u001b[38;5;124;43m\"\u001b[39;49m\u001b[43m)\u001b[49m\u001b[38;5;241;43m.\u001b[39;49m\u001b[43mdecode\u001b[49m\u001b[43m(\u001b[49m\u001b[43m)\u001b[49m\u001b[43m,\u001b[49m\u001b[43m \u001b[49m\u001b[43mmat\u001b[49m\u001b[43m)\u001b[49m\n",
      "\u001b[1;31merror\u001b[0m: OpenCV(4.8.0) D:\\a\\opencv-python\\opencv-python\\opencv\\modules\\highgui\\src\\window.cpp:1272: error: (-2:Unspecified error) The function is not implemented. Rebuild the library with Windows, GTK+ 2.x or Cocoa support. If you are on Ubuntu or Debian, install libgtk2.0-dev and pkg-config, then re-run cmake or configure script in function 'cvShowImage'\n"
     ]
    }
   ],
   "source": [
    "import cv2\n",
    "import numpy as np\n",
    "from sklearn.cluster import DBSCAN\n",
    "image = video_frames[10]\n",
    "\n",
    "\n",
    "# 转换为HSV图像\n",
    "hsv = cv2.cvtColor(image, cv2.COLOR_BGR2HSV)\n",
    "\n",
    "# 展示图像\n",
    "cv2.imshow('image', hsv)"
   ]
  },
  {
   "cell_type": "code",
   "execution_count": null,
   "id": "ec196d7f",
   "metadata": {},
   "outputs": [],
   "source": [
    "\n",
    "# 定义白色的HSV范围\n",
    "lower_white = np.array([0, 0, 200])\n",
    "upper_white = np.array([180, 25, 255])\n",
    "\n",
    "# 根据HSV范围创建一个白色区域的掩码\n",
    "mask = cv2.inRange(hsv, lower_white, upper_white)\n",
    "\n",
    "# 寻找白色区域的轮廓\n",
    "contours, _ = cv2.findContours(mask, cv2.RETR_EXTERNAL, cv2.CHAIN_APPROX_SIMPLE)\n",
    "\n",
    "# 将关键点转换为numpy数组\n",
    "keypoints = np.array(keypoints)\n",
    "\n",
    "# 使用DBSCAN进行聚类，找出关键点与线条的靠近关系\n",
    "db = DBSCAN(eps=20, min_samples=2).fit(keypoints)\n",
    "labels = db.labels_\n",
    "\n",
    "# 将关键点移到最近的白色线上\n",
    "for i, point in enumerate(keypoints):\n",
    "    label = labels[i]\n",
    "    if label != -1:\n",
    "        # 找到同一类的点\n",
    "        same_cluster_points = keypoints[labels == label]\n",
    "        # 计算这些点到白色区域的质心的距离\n",
    "        distances = [cv2.pointPolygonTest(contour, (point[0], point[1]), True) for contour in contours]\n",
    "        min_distance_index = np.argmin(np.abs(distances))\n",
    "        closest_contour = contours[min_distance_index]\n",
    "        # 将点移动到白色线上\n",
    "        M = cv2.moments(closest_contour)\n",
    "        if M['m00'] != 0:\n",
    "            cx = int(M['m10'] / M['m00'])\n",
    "            cy = int(M['m01'] / M['m00'])\n",
    "            keypoints[i] = (cx, cy)\n"
   ]
  },
  {
   "cell_type": "code",
   "execution_count": 7,
   "id": "6088c2fd",
   "metadata": {},
   "outputs": [],
   "source": [
    "new_keypoints = adjust_keypoints_to_lines(video_frames[10], pairs_to_points(court_keypoints))"
   ]
  },
  {
   "cell_type": "code",
   "execution_count": 8,
   "id": "af3dc915",
   "metadata": {},
   "outputs": [],
   "source": [
    "new_keypoints = points_to_pairs(new_keypoints)"
   ]
  },
  {
   "cell_type": "code",
   "execution_count": 9,
   "id": "0f38742f",
   "metadata": {},
   "outputs": [
    {
     "name": "stdout",
     "output_type": "stream",
     "text": [
      "0: 555, 291\n",
      "1: 1319, 291\n",
      "2: 284, 834\n",
      "3: 1590, 839\n",
      "4: 651, 291\n",
      "5: 447, 835\n",
      "6: 1222, 291\n",
      "7: 1424, 839\n",
      "8: 622, 373\n",
      "9: 1254, 374\n",
      "10: 512, 653\n",
      "11: 1352, 655\n",
      "12: 936, 373\n",
      "13: 930, 654\n"
     ]
    }
   ],
   "source": [
    "for i in range(0, len(new_keypoints), 2):\n",
    "    x = int(new_keypoints[i])\n",
    "    y = int(new_keypoints[i+1])\n",
    "    print(f'{i//2}: {x}, {y}')"
   ]
  },
  {
   "cell_type": "code",
   "execution_count": 10,
   "id": "0a0eef16",
   "metadata": {},
   "outputs": [],
   "source": [
    "# 创建迷你球场\n",
    "mini_court = MiniCourt(video_frames[0])\n",
    "\n",
    "# 检测击球帧\n",
    "ball_shot_frames = ball_tracker.get_ball_shot_frames(ball_detections)\n",
    "\n",
    "# 转换球员和球的位置到迷你球场位置\n",
    "player_mini_court_detections, ball_mini_court_detections = mini_court.convert_bounding_boxes_to_mini_court_coordinates(\n",
    "    player_detections, ball_detections, court_keypoints\n",
    ")"
   ]
  },
  {
   "cell_type": "code",
   "execution_count": 11,
   "id": "4c1febe7",
   "metadata": {},
   "outputs": [],
   "source": [
    "# 统计数据\n",
    "player_stats_data_df = cal_stats(ball_shot_frames, ball_mini_court_detections, player_mini_court_detections, video_frames, mini_court, constants)"
   ]
  },
  {
   "cell_type": "code",
   "execution_count": 12,
   "id": "72aa20a3",
   "metadata": {},
   "outputs": [],
   "source": [
    "# 绘制输出视频\n",
    "## 画出球员和球的bbox\n",
    "output_video_frames= player_tracker.draw_bboxes(video_frames, player_detections)\n",
    "output_video_frames= ball_tracker.draw_bboxes(output_video_frames, ball_detections)\n",
    "\n",
    "## 画出球场KPS\n",
    "output_video_frames  = court_line_detector.draw_keypoints_on_video(output_video_frames)\n",
    "\n",
    "# 画出迷你球场\n",
    "output_video_frames = mini_court.draw_mini_court(output_video_frames)\n",
    "output_video_frames = mini_court.draw_points_on_mini_court(output_video_frames,player_mini_court_detections)\n",
    "output_video_frames = mini_court.draw_points_on_mini_court(output_video_frames,ball_mini_court_detections, color=(0,255,255))\n",
    "\n",
    "# 画出球员统计数据\n",
    "output_video_frames = draw_player_stats(output_video_frames,player_stats_data_df)\n",
    "\n",
    "## 在左上角画出帧数\n",
    "for i, frame in enumerate(output_video_frames):\n",
    "    cv2.putText(frame, f\"Frame: {i}\",(10,30),cv2.FONT_HERSHEY_SIMPLEX, 1, (0, 255, 0), 2)\n",
    "\n",
    "output_dir = \"output_videos\"\n",
    "\n",
    "\n",
    "save_video(output_video_frames, f'{output_dir}/{base_name}_output.avi')\n"
   ]
  }
 ],
 "metadata": {
  "kernelspec": {
   "display_name": "Python 3",
   "language": "python",
   "name": "python3"
  },
  "language_info": {
   "codemirror_mode": {
    "name": "ipython",
    "version": 3
   },
   "file_extension": ".py",
   "mimetype": "text/x-python",
   "name": "python",
   "nbconvert_exporter": "python",
   "pygments_lexer": "ipython3",
   "version": "3.11.8"
  }
 },
 "nbformat": 4,
 "nbformat_minor": 5
}
