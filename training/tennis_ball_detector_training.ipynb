{
 "cells": [
  {
   "cell_type": "markdown",
   "metadata": {},
   "source": [
    "# 网球识别"
   ]
  },
  {
   "cell_type": "markdown",
   "metadata": {},
   "source": [
    "## 开始"
   ]
  },
  {
   "cell_type": "code",
   "execution_count": null,
   "metadata": {},
   "outputs": [],
   "source": [
    "!pip install roboflow\n",
    "!pip install ultralytics\n",
    "!pip install roboflow"
   ]
  },
  {
   "cell_type": "code",
   "execution_count": 4,
   "metadata": {},
   "outputs": [],
   "source": [
    "get_from_roboflow = False"
   ]
  },
  {
   "cell_type": "markdown",
   "metadata": {},
   "source": [
    "# 获取数据集"
   ]
  },
  {
   "cell_type": "code",
   "execution_count": null,
   "metadata": {
    "ExecuteTime": {
     "end_time": "2024-06-16T11:34:40.848889Z",
     "start_time": "2024-06-16T11:34:33.095484Z"
    }
   },
   "outputs": [],
   "source": [
    "if get_from_roboflow:\n",
    "    from roboflow import Roboflow\n",
    "    rf = Roboflow(api_key=\"hAHXsXCEmMRSu3NkJQy7\")\n",
    "    project = rf.workspace(\"viren-dhanwani\").project(\"tennis-ball-detection\")\n",
    "    version = project.version(6)\n",
    "    dataset = version.download(\"yolov5\")"
   ]
  },
  {
   "cell_type": "code",
   "execution_count": 8,
   "metadata": {
    "ExecuteTime": {
     "end_time": "2024-06-16T11:38:37.750806Z",
     "start_time": "2024-06-16T11:38:37.704397Z"
    }
   },
   "outputs": [
    {
     "name": "stdout",
     "output_type": "stream",
     "text": [
      "Current working directory: e:\\Current\\00_Project\\DeepLearning\\tennis_analysis\\training\n"
     ]
    }
   ],
   "source": [
    "import os\n",
    "\n",
    "# 获取当前 Jupyter Notebook 文件所在的目录\n",
    "notebook_path = os.path.abspath('')\n",
    "\n",
    "# 移动工作目录到当前 Jupyter Notebook 文件所在的目录\n",
    "os.chdir(notebook_path)\n",
    "\n",
    "# 打印当前工作目录以确认\n",
    "print(\"Current working directory:\", os.getcwd())\n",
    "data_dir = 'tennis-ball-detection-6'"
   ]
  },
  {
   "cell_type": "code",
   "execution_count": 6,
   "metadata": {},
   "outputs": [],
   "source": [
    "import shutil\n",
    "if get_from_roboflow:\n",
    "    # 如果是roboflow下载的数据集,需要移动\n",
    "    shutil.move(f'{data_dir}/train', f'{data_dir}/{data_dir}/train')\n",
    "    shutil.move(f'{data_dir}/valid', f'{data_dir}/{data_dir}/valid')\n",
    "    shutil.move(f'{data_dir}/test', f'{data_dir}/{data_dir}/test')\n",
    "else:\n",
    "    # !unzip {data_dir}/{data_dir}.zip\n",
    "    shutil.move(f'{data_dir}/train', f'datasets/{data_dir}/train')\n",
    "    shutil.move(f'{data_dir}/valid', f'datasets/{data_dir}/valid')\n",
    "    shutil.move(f'{data_dir}/test', f'datasets/{data_dir}/test')"
   ]
  },
  {
   "cell_type": "code",
   "execution_count": null,
   "metadata": {
    "ExecuteTime": {
     "end_time": "2024-06-16T11:41:51.378890Z",
     "start_time": "2024-06-16T11:40:11.959716Z"
    }
   },
   "outputs": [],
   "source": [
    "!yolo task=detect mode=train model=yolov5l6u.pt data={data_dir}/data.yaml epochs=100 imgsz=640"
   ]
  }
 ],
 "metadata": {
  "kernelspec": {
   "display_name": "cv_env",
   "language": "python",
   "name": "python3"
  },
  "language_info": {
   "codemirror_mode": {
    "name": "ipython",
    "version": 3
   },
   "file_extension": ".py",
   "mimetype": "text/x-python",
   "name": "python",
   "nbconvert_exporter": "python",
   "pygments_lexer": "ipython3",
   "version": "3.11.8"
  }
 },
 "nbformat": 4,
 "nbformat_minor": 2
}
